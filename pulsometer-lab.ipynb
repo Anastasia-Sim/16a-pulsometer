{
 "cells": [
  {
   "attachments": {},
   "cell_type": "markdown",
   "metadata": {},
   "source": [
    "# EECS 16A Pulsometer Project\n",
    "### EECS 16A: Designing Information Devices and Systems I, Fall 2023\n",
    "\n",
    "<!---\n",
    "      Anastasia Simonova (asimonova@berkeley.edu)\n",
    "      Alexander Di (alexanderdi@berkeley.edu)\n",
    "      Justin Lee (julee6@berkeley.edu)\n",
    "      Aditya Madaraju (aditya.madaraju@berkeley.edu)\n",
    "      Myla ()\n",
    "      Kitty ()\n",
    "---->"
   ]
  },
  {
   "attachments": {},
   "cell_type": "markdown",
   "metadata": {},
   "source": [
    "# Table of Contents\n",
    "\n",
    "* [Install Test](#install-test)\n",
    "* [Overview](#overview)\n",
    "* [Assistance](#questions)\n",
    "* [Python](#python)\n",
    "    * [Functions and Variables](#fnvar)\n",
    "    * [Control Flow](#ctrl)\n",
    "    * [List Comprehension](#lst)\n",
    "* [NumPy](#numpy)\n",
    "    * [Arrays](#arrays)\n",
    "    * [Slicing](#slice)\n",
    "    * [Useful Functions](#funcs)\n",
    "* [Miscellaneous Functions](#misc)\n",
    "* [Questions](#qs)\n",
    "* [Checkoff](#checkoff)\n",
    "\n",
    "\n",
    "\n",
    "// FIXME"
   ]
  },
  {
   "attachments": {},
   "cell_type": "markdown",
   "metadata": {},
   "source": [
    "<a id='overview'></a>\n",
    "# Overview"
   ]
  },
  {
   "cell_type": "markdown",
   "metadata": {},
   "source": []
  }
 ],
 "metadata": {
  "language_info": {
   "name": "python"
  },
  "orig_nbformat": 4
 },
 "nbformat": 4,
 "nbformat_minor": 2
}
