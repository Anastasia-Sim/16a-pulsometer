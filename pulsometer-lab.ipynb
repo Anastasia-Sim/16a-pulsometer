{
 "cells": [
  {
   "cell_type": "markdown",
   "metadata": {},
   "source": [
    "# EECS 16A Pulsometer Project\n",
    "### EECS 16A: Designing Information Devices and Systems I, Fall 2023\n",
    "\n",
    "<!---\n",
    "      Anastasia Simonova (asimonova@berkeley.edu)\n",
    "      Alexander Di (alexanderdi@berkeley.edu)\n",
    "      Justin Lee (julee6@berkeley.edu)\n",
    "      Aditya Madaraju (aditya.madaraju@berkeley.edu)\n",
    "      Myla ()\n",
    "      Kitty ()\n",
    "---->"
   ]
  },
  {
   "cell_type": "markdown",
   "metadata": {},
   "source": [
    "# Table of Contents\n",
    "\n",
    "* [Overview](#overview)\n",
    "* [Components](#components)\n",
    "* [Setup](#setup)\n",
    "    * [Circuit](#circuit)\n",
    "    * [Transmiter-Receiver Pair](#pair)\n",
    "    * [Measuring Output](#output)\n",
    "    * [Amplifier 1](#amp1)\n",
    "    * [Tuning Potentiometer](#potentiometer)\n",
    "* [Lab Report](#report)\n",
    "* [Checkoff](#checkoff)\n"
   ]
  },
  {
   "cell_type": "markdown",
   "metadata": {},
   "source": [
    "<a id='overview'></a>\n",
    "# Overview"
   ]
  },
  {
   "cell_type": "markdown",
   "metadata": {},
   "source": [
    "<a id='components'></a>\n",
    "# Components\n",
    "List of components:\n",
    "<ul>\n",
    "    <li>-potentiometer: </li>\n",
    "    <center>\n",
    "    <img src=\"pulsometer-image/potentiometer.jpg\" style=\"height:256px\" />\n",
    "    </center>\n",
    "    <li>-LED: </li>\n",
    "    <center>\n",
    "    <img src=\"pulsometer-image/red_led.jpg\" style=\"height:256px\" />\n",
    "    </center>\n",
    "    <li>-ambient light sensor: </li>\n",
    "    <center>\n",
    "    <img src=\"pulsometer-image/ambient_light_sensor.jpg\" style=\"height:256px\" />\n",
    "    </center>\n",
    "    <li>-large directional capacitor (47uf): </li>\n",
    "    <center>\n",
    "    <img src=\"pulsometer-image/directional_capacitor.jpg\" style=\"height:256px\" />\n",
    "    </center>\n",
    "    <li>-1uf capacitor:</li>\n",
    "    <center>\n",
    "    <img src=\"pulsometer-image/1uf-capacitor.jpg\" style=\"height:256px\" />\n",
    "    </center>\n",
    "    <li>-op-amp</li>\n",
    "    <center>\n",
    "    <img src=\"pulsometer-image/opamp.jpg\" style=\"height:256px\" />\n",
    "    </center>\n",
    "    <li>-1 10k resistor (brown-black-orange-gold)</li>\n",
    "    <center>\n",
    "    <img src=\"pulsometer-image/10k_resistor.jpg\" style=\"height:256px\" />\n",
    "    </center>\n",
    "    <li>-1 20k resistor (red-black-orange-gold)</li>\n",
    "    <center>\n",
    "    <img src=\"pulsometer-image/20k_resistor.jpg\" style=\"height:256px\" />\n",
    "    </center>\n",
    "    <li>-1 1k resistor (brown-black-red-gold)</li>\n",
    "    <center>\n",
    "    <img src=\"pulsometer-image/1k_resistor.jpg\" style=\"height:256px\" />\n",
    "    </center>\n",
    "    <li>phone flashlight </li>\n",
    "</ul>"
   ]
  },
  {
   "cell_type": "markdown",
   "metadata": {},
   "source": [
    "<a id='setup'></a>\n",
    "# Setup"
   ]
  },
  {
   "cell_type": "markdown",
   "metadata": {},
   "source": [
    "<a id='circuit'></a>\n",
    "## Circuit\n",
    "<img src=\"pulsometer-image/circuit.png\" style=\"height:400px\" />"
   ]
  },
  {
   "cell_type": "markdown",
   "metadata": {},
   "source": [
    "<a id='pair'></a>\n",
    "## Transmitter-receiver pair\n",
    "\n",
    "In today's lab, we are going to introduce you with **signal processing** techniques. Let us start with terminology. First, a signal is a model that represents data we are working with. In this lab, we accumulate data about heartbeat fluctuations, using circuits, and read it, using an LED. The heartbeat data is called an input signal, and the LED light is called an output signal.\n",
    "\n",
    "A piece of circuitry that captures the input signal is called a transmitter-receiver pair. You are going to use your phone's flashlight that **transmits** bright light through your finger. As heartbeat occurs, transparency of your finger changes. The change in transparency will cause the light from the flashlight to fluctuate. To capture these fluctuations, you are going to use a combination of an ambient light sensor and a potentiometer as your **receiver**.\n",
    "\n",
    "The receiver is going to pass the input signal through a circuitry setup that is going to eliminate all the noises and leave the heartbeat signal only. Finally, you are going to see a heartbeat signal as fluctuations of light on an **indicator** LED."
   ]
  },
  {
   "cell_type": "markdown",
   "metadata": {},
   "source": [
    "<a id='output'></a>\n",
    "## Measuring output\n",
    "If there is a pulse, the ambient light sensor (ALS) will detect less light because the flow of blood will block the flashlight from passing through your finger. This translates to a smaller internal resistance $R_{ALS}$ since brightness reduces the resistance of the ALS, as we saw in the imaging module. We can redraw the ALS as a resistor with variable resistance $R_{ALS}$\n",
    "\n",
    "<img src=\"pulsometer-image/pot_als_pair.png\" style=\"height:400px\" />\n",
    "\n",
    "<span style=\"color:red\">What is $V_{signal}$ in terms of $R_{pot}$ and $R_{sensor}$?</span>"
   ]
  },
  {
   "cell_type": "markdown",
   "metadata": {},
   "source": [
    "\"\"\"YOUR ANSWER HERE\"\"\""
   ]
  },
  {
   "cell_type": "markdown",
   "metadata": {},
   "source": [
    "<span style=\"color:red\">How does $V_{signal}$ change with the detection of a pulse? <i>Hint: how does $R_{ALS}$ change when a pulse is detected? Does the ALS detect more or less light given a pulse?</i></span>"
   ]
  },
  {
   "cell_type": "markdown",
   "metadata": {},
   "source": [
    "\"\"\"YOUR ANSWER HERE\"\"\"\""
   ]
  },
  {
   "cell_type": "markdown",
   "metadata": {},
   "source": [
    "Unfortunately, the flucuation in the light sensor's reading is almost undetectable if we tried to read the voltage between the potentiometer and light sensor. To amplify the sensor reading, we pass our signal through a series of filters and amplifiers to obtain a signal closer to a heartbeat."
   ]
  },
  {
   "cell_type": "markdown",
   "metadata": {},
   "source": [
    "<a id='amp1'></a>\n",
    "## Amplifier 1\n",
    "\n",
    "<img src=\"pulsometer-image/v_out_1.png\" style=\"height:400px\" />\n",
    "\n",
    "Let us examine the first amplifier in our circuit. Using KCL at the minus terminal of the op amp, we can derive the following equations:\n",
    "\n",
    "\\begin{eqnarray}\n",
    "I_{C_1} &=& I_{R_{f,1}} \\\\\n",
    "C_1\\frac{d\\left(V_{signal} - 2.5\\right)}{dt} &=& \\frac{2.5 - V_{out,1}}{R_{f,1}} \\\\\n",
    "V_{out,1} &=& 2.5 - R_{f,1}C_1\\frac{dV_{signal}}{dt}\n",
    "\\end{eqnarray}\n",
    "\n",
    "From the equation $V_{out,1} = 2.5 - R_{f,1}C_1\\frac{dV_{signal}}{dt}$, we can see that $V_{out,1}$ depends on the change in $V_{signal}$.\n",
    "\n",
    "<span style=\"color:red\">Is $V_{out,1}$ high or low when a pulse is detected? <i>Hint: does $V_{signal}$ increase or decrease when a pulse is detected? What does that mean for $\\frac{dV_{signal}}{dt}$?</i></span>"
   ]
  },
  {
   "cell_type": "markdown",
   "metadata": {},
   "source": [
    "\"\"\"YOUR ANSWER HERE\"\"\""
   ]
  },
  {
   "cell_type": "markdown",
   "metadata": {},
   "source": [
    "\n",
    "\n",
    "Our desired output is an alternating signal between high and low voltage. $C_1$ acts as a bucket of charge that filters out signals that frequencies lower than that of a normal heartbeat, around 0.33 Hz or 20 bpm. This filtered signal is then passed into the inverting op amp. Using KCL, we can find the output voltage of the op amp,\n",
    "\n",
    "\\begin{eqnarray}\n",
    "\\frac{V_{signal} - 2.5}{R_{sensor}} &=& \\frac{2.5 - V_{out,1}}{R_3} \\\\\n",
    "R_3\\left(V_{signal} - 2.5\\right) &=& R_{sensor}\\left(2.5 - V_{out,1}\\right) \\\\\n",
    "R_3V_{signal} - 2.5\\left(R_{sensor} + R_3\\right) &=& -R_{sensor}V_{out,1} \\\\\n",
    "V_{out,1} &=& -\\frac{R_3}{R_{sensor}}V_{signal} + 2.5\\frac{\\left(R_{sensor} + R_3\\right)}{R_{sensor}} \\\\\n",
    "V_{out,1} &=& -\\frac{R_3}{R_{sensor}}\\left(V_{signal} - 2.5\\right) + 2.5 \\\\\n",
    "V_{out,1} &=& -R_3I_{sensor} + 2.5\\frac{R_3}{R_{sensor}} + 2.5\n",
    "\\end{eqnarray}\n",
    "\n",
    "When there is high light (no pulse), $I_{sensor}$ is large, meaning $V_{out,1}$ will be small. When there is low light (a pulse is detected), $I_{sensor}$ is small, meaning $V_{out,1}$ will be large. Effectively, $V_{out,1}$ is low when a pulse is detected and high otherwise. Don't worry if $V_{out,1}$ seems to be inverted, i.e. low voltage when there's a pulse and high otherwise; we will re-invert this intermediate signal later.\n",
    "\n",
    "In the first half of the circuit, we removed any noise that was below the typical frequency of a heartbeat. In the second half of the circuit, we use $C_3$ to filter out noise that is above the frequency of a normal heartbeat, around 8Hz or 480bpm (how we calculate these frequencies is out of scope for this class but covered in 16B). Still, our newly amplified signal is inpercievable to the human eye. To amplify this difference further, we pass our signal through another inverting amplifier with gain $A_v = -\\frac{R_6}{R_5}$ (note that this re-inverts our signal). Effectively, our original signal is amplified by a total of $\\frac{R_3R_6}{R_5}$ from both inverting amplifiers, allowing us to see the LED turn on when a pulse is detected and turn off when there is no pulse."
   ]
  },
  {
   "cell_type": "markdown",
   "metadata": {},
   "source": [
    "<a id='potentiometer'></a>\n",
    "## Tuning potentiometer"
   ]
  },
  {
   "cell_type": "markdown",
   "metadata": {},
   "source": []
  },
  {
   "cell_type": "markdown",
   "metadata": {},
   "source": [
    "<a id='report'></a>\n",
    "# Lab Report"
   ]
  },
  {
   "cell_type": "markdown",
   "metadata": {},
   "source": [
    "<a id='checkoff'></a>\n",
    "# Checkoff"
   ]
  },
  {
   "cell_type": "markdown",
   "metadata": {},
   "source": []
  }
 ],
 "metadata": {
  "kernelspec": {
   "display_name": "Python 3",
   "language": "python",
   "name": "python3"
  },
  "language_info": {
   "codemirror_mode": {
    "name": "ipython",
    "version": 3
   },
   "file_extension": ".py",
   "mimetype": "text/x-python",
   "name": "python",
   "nbconvert_exporter": "python",
   "pygments_lexer": "ipython3",
   "version": "3.8.10"
  }
 },
 "nbformat": 4,
 "nbformat_minor": 2
}
