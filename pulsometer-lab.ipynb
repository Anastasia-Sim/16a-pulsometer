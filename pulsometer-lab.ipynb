{
 "cells": [
  {
   "cell_type": "markdown",
   "metadata": {},
   "source": [
    "# EECS 16A Pulsometer Project\n",
    "### EECS 16A: Designing Information Devices and Systems I, Fall 2023\n",
    "\n",
    "<!---\n",
    "      Anastasia Simonova (asimonova@berkeley.edu)\n",
    "      Alexander Di (alexanderdi@berkeley.edu)\n",
    "      Justin Lee (julee6@berkeley.edu)\n",
    "      Aditya Madaraju (aditya.madaraju@berkeley.edu)\n",
    "      Myla ()\n",
    "      Kitty ()\n",
    "---->"
   ]
  },
  {
   "cell_type": "markdown",
   "metadata": {},
   "source": [
    "# Table of Contents\n",
    "\n",
    "* [Overview](#overview)\n",
    "* [Components](#components)\n",
    "* [Task 1: Setup](#setup)\n",
    "    * [Circuit](#circuit)\n",
    "    * [Transmiter-Receiver Pair](#pair)\n",
    "    * [Measuring Output](#output)\n",
    "    * [Amplifier 1](#amp1)\n",
    "    * [Loading Effects](#loading)\n",
    "    * [Amplifier 2](#amp2)\n",
    "* [Task 2: Tuning Potentiometer](#potentiometer)\n",
    "* [Task 3: Building the Circuit](#build)\n",
    "* [Lab Report](#report)\n",
    "* [Checkoff](#checkoff)\n"
   ]
  },
  {
   "cell_type": "markdown",
   "metadata": {},
   "source": [
    "<a id='overview'></a>\n",
    "# Overview"
   ]
  },
  {
   "cell_type": "markdown",
   "metadata": {},
   "source": [
    "<a id='components'></a>\n",
    "# Components\n",
    "List of components:\n",
    "<ul>\n",
    "    <li>-potentiometer: </li>\n",
    "    <center>\n",
    "    <img src=\"pulsometer-image/potentiometer.jpg\" style=\"height:256px\" />\n",
    "    </center>\n",
    "    <li>-LED: </li>\n",
    "    <center>\n",
    "    <img src=\"pulsometer-image/red_led.jpg\" style=\"height:256px\" />\n",
    "    </center>\n",
    "    <li>-ambient light sensor: </li>\n",
    "    <center>\n",
    "    <img src=\"pulsometer-image/ambient_light_sensor.jpg\" style=\"height:256px\" />\n",
    "    </center>\n",
    "    <li>-large directional capacitor (47uf): </li>\n",
    "    <center>\n",
    "    <img src=\"pulsometer-image/directional_capacitor.jpg\" style=\"height:256px\" />\n",
    "    </center>\n",
    "    <li>-1uf capacitor:</li>\n",
    "    <center>\n",
    "    <img src=\"pulsometer-image/1uf-capacitor.jpg\" style=\"height:256px\" />\n",
    "    </center>\n",
    "    <li>-op-amp</li>\n",
    "    <center>\n",
    "    <img src=\"pulsometer-image/opamp.jpg\" style=\"height:256px\" />\n",
    "    </center>\n",
    "    <li>-1 10k resistor (brown-black-orange-gold)</li>\n",
    "    <center>\n",
    "    <img src=\"pulsometer-image/10k_resistor.jpg\" style=\"height:256px\" />\n",
    "    </center>\n",
    "    <li>-1 20k resistor (red-black-orange-gold)</li>\n",
    "    <center>\n",
    "    <img src=\"pulsometer-image/20k_resistor.jpg\" style=\"height:256px\" />\n",
    "    </center>\n",
    "    <li>-1 1k resistor (brown-black-red-gold)</li>\n",
    "    <center>\n",
    "    <img src=\"pulsometer-image/1k_resistor.jpg\" style=\"height:256px\" />\n",
    "    </center>\n",
    "    <li>phone flashlight </li>\n",
    "</ul>"
   ]
  },
  {
   "cell_type": "markdown",
   "metadata": {},
   "source": [
    "<a id='setup'></a>\n",
    "# Task 1: Setup"
   ]
  },
  {
   "cell_type": "markdown",
   "metadata": {},
   "source": [
    "<a id='circuit'></a>\n",
    "## Circuit\n",
    "<img src=\"pulsometer-image/circuit.png\" style=\"height:400px\" />"
   ]
  },
  {
   "cell_type": "markdown",
   "metadata": {},
   "source": [
    "<a id='pair'></a>\n",
    "## Transmitter-receiver pair\n",
    "\n",
    "In today's lab, we are going to introduce you with **signal processing** techniques. Let us start with terminology. First, a signal is a model that represents data we are working with. In this lab, we accumulate data about heartbeat fluctuations, using circuits, and read it, using an LED. The heartbeat data is called an input signal, and the LED light is called an output signal.\n",
    "\n",
    "A piece of circuitry that captures the input signal is called a transmitter-receiver pair. You are going to use your phone's flashlight that **transmits** bright light through your finger. As heartbeat occurs, transparency of your finger changes. The change in transparency will cause the light from the flashlight to fluctuate. To capture these fluctuations, you are going to use a combination of an ambient light sensor and a potentiometer as your **receiver**.\n",
    "\n",
    "The receiver is going to pass the input signal through a circuitry setup that is going to eliminate all the noises and leave the heartbeat signal only. Finally, you are going to see a heartbeat signal as fluctuations of light on an **indicator** LED."
   ]
  },
  {
   "cell_type": "markdown",
   "metadata": {},
   "source": [
    "<a id='output'></a>\n",
    "## Measuring output\n",
    "If there is a pulse, the ambient light sensor (ALS) will detect less light because the flow of blood will block the flashlight from passing through your finger. This translates to a larger internal resistance $R_{ALS}$ since brightness reduces the resistance of the ALS, as we saw in the imaging module. We can redraw the ALS as a resistor with variable resistance $R_{ALS}$\n",
    "\n",
    "<img src=\"pulsometer-image/pot_als_pair.jpg\" style=\"height:250px\" />\n",
    "\n",
    "<span style=\"color:red\">What is $V_{signal}$ in terms of $R_{pot}$ and $R_{ALS}$?</span>"
   ]
  },
  {
   "cell_type": "code",
   "execution_count": null,
   "metadata": {},
   "outputs": [],
   "source": [
    "\"\"\"YOUR ANSWER HERE\"\"\""
   ]
  },
  {
   "cell_type": "markdown",
   "metadata": {},
   "source": [
    "<span style=\"color:red\">How does $V_{signal}$ change with the detection of a pulse? <i>Hint: how does $R_{ALS}$ change when a pulse is detected? Does the ALS detect more or less light given a pulse?</i></span>"
   ]
  },
  {
   "cell_type": "code",
   "execution_count": null,
   "metadata": {},
   "outputs": [],
   "source": [
    "\"\"\"YOUR ANSWER HERE\"\"\"\""
   ]
  },
  {
   "cell_type": "markdown",
   "metadata": {},
   "source": [
    "Unfortunately, the flucuation in the light sensor's reading is almost undetectable if we tried to read the voltage between the potentiometer and light sensor. To amplify the sensor reading, we pass our signal through a series of filters and amplifiers to obtain a signal closer to a heartbeat."
   ]
  },
  {
   "cell_type": "markdown",
   "metadata": {},
   "source": [
    "<a id='amp1'></a>\n",
    "## Amplifier 1\n",
    "<img src=\"pulsometer-image/v_out_1.jpg\" style=\"height:300px\" />\n",
    "\n",
    "Let us examine the first amplifier in our circuit. Using KCL at the minus terminal of the op amp, we can derive the following equations:\n",
    "\n",
    "\\begin{eqnarray}\n",
    "I_{C_1} &=& I_{R_{f,1}} \\\\\n",
    "\\\\\n",
    "C_1\\frac{d\\left(V_{signal} - 2.5\\right)}{dt} &=& \\frac{2.5 - V_{out,1}}{R_{f,1}} \\\\\n",
    "\\\\\n",
    "V_{out,1} &=& 2.5 - R_{f,1}C_1\\frac{dV_{signal}}{dt}\n",
    "\\end{eqnarray}\n",
    "\n",
    "From the equation $V_{out,1} = 2.5 - R_{f,1}C_1\\frac{dV_{signal}}{dt}$, we can see that $V_{out,1}$ depends on the change in $V_{signal}$.\n",
    "\n",
    "<span style=\"color:red\">Is $V_{out,1}$ high or low when a pulse is detected? <i>Hint: does $V_{signal}$ increase or decrease when a pulse is detected? What does that mean for $\\frac{dV_{signal}}{dt}$? Don't worry if you get something unexpected.</i></span>"
   ]
  },
  {
   "cell_type": "code",
   "execution_count": null,
   "metadata": {},
   "outputs": [],
   "source": [
    "\"\"\"YOUR ANSWER HERE\"\"\""
   ]
  },
  {
   "cell_type": "markdown",
   "metadata": {},
   "source": [
    "The capacitor $C_1$ also serves as a bucket of charge that helps filter out noisy signals that have frequencies lower than that of a normal hearbeat. In our circuit, this cutoff frequency is about 0.33 Hz or 20 bpm (the derivation is out of scope for this class but will be covered in other courses such as EECS 16B)."
   ]
  },
  {
   "cell_type": "markdown",
   "metadata": {},
   "source": [
    "<a id='loading'></a>\n",
    "## Loading Effects\n",
    "\n",
    "Since we do not have a unity gain buffer that separates the first op amp from the second, the overall resistance of the first op amp will load onto the second op amp. This means that the voltage reading at $V_{signal}$ could potentially change, causing the second op amp to amplify a voltage reading we did originally intend to amplify. To solve this problem, we will draw the Thevenin equivalent of the first circuit.\n",
    "\n",
    "<img src=\"pulsometer-image/v_test.jpg\" style=\"height:300px\" />\n",
    "\n",
    "We have already calculated $V_{th}$ at the node $V_{out,1}$, so all we need is the equivalent resistance. By zeroing out all independent sources and probing $V_{out,1}$ with a voltage source of $V_{test}$, we can calculate $R_{th} = \\frac{V_{test}}{i_{test}}$. Performing KCL at the node $V_{out,1}$, we get:\n",
    "\n",
    "\\begin{eqnarray}\n",
    "i_{test} &=& i_{R_{f,1}} \\\\\n",
    "\\\\\n",
    "i_{test} &=& \\frac{V_{test} - 0}{R_{f,1}} \\\\\n",
    "\\\\\n",
    "\\frac{V_{test}}{i_{test}} &=& R_{f,1} = R_{th}\n",
    "\\end{eqnarray}\n",
    "\n",
    "This gives us the Thevenin equivalent circuit:\n",
    "\n",
    "<img src=\"pulsometer-image/thev.jpg\" style=\"height:300px\" />"
   ]
  },
  {
   "cell_type": "markdown",
   "metadata": {},
   "source": [
    "<a id='amp2'></a>\n",
    "## Amplifier 2\n",
    "Now that we have simplified the first half of the circuit, let us connect it to the second amplifier:\n",
    "\n",
    "<img src=\"pulsometer-image/thev_with_op_amp.jpg\" style=\"height:400px\" />\n",
    "\n",
    "Just as before, the capacitor $C_2$ serves as a bucket of charge that filters out certain frequencies. In this case, $C_2$ filters out noise with frequencies higher than that of a heartbeat. For us, this means a cutoff frequency around 3.33 Hz or 200 bpm (again, the derivation is out of scope for this class).\n",
    "\n",
    "<span style=\"color:red\">If we disregard the effects of the capacitor in the circuit (remove it entirely from the circuit), what kind of op amp configuration does the circuit resemble? <i>Hint: the three big circuits were the unity gain buffer, inverting amplifer, and non-inverting amplifer</i></span>"
   ]
  },
  {
   "cell_type": "code",
   "execution_count": null,
   "metadata": {},
   "outputs": [],
   "source": [
    "\"\"\"YOUR ANSWER HERE\"\"\""
   ]
  },
  {
   "cell_type": "markdown",
   "metadata": {},
   "source": [
    "Now that we used the Thevenin equivalent circuit, we can see that the input resistance to the op amp is no longer simply $R_{s,2}$ but rather $R_{f,1} + R_{s,2}$. Using the general formula for the type of amplifier you identified, we get:\n",
    "\n",
    "\\begin{eqnarray}\n",
    "V_{out} &=& -\\frac{R_f}{R_s}\\left(V_{in} - V_{ref}\\right) + V_{ref} \\\\\n",
    "\\\\\n",
    "V_{out,2} &=& -\\frac{R_{f,2}}{R_{f,1} + R_{s,2}}\\left(2.5 - R_{f,1}C_1\\frac{dV_{signal}}{dt} - 2.5\\right) + 2.5 \\\\\n",
    "\\\\\n",
    "V_{out,2} &=& \\frac{R_{f,1}R_{f,2}C_1}{R_{f,1} + R_{s,2}}\\left(\\frac{dV_{signal}}{dt}\\right) + 2.5 \n",
    "\\end{eqnarray}\n",
    "\n",
    "<span style=\"color:red\">How does $V_{out,2}$ change as $V_{signal}$ changes? When we connect $V_{out,2}$ to the LED, should you expect the LED to light up or fade out when a pulse is detected?</span>"
   ]
  },
  {
   "cell_type": "code",
   "execution_count": null,
   "metadata": {},
   "outputs": [],
   "source": [
    "\"\"\"YOUR ANSWER HERE\"\"\""
   ]
  },
  {
   "cell_type": "markdown",
   "metadata": {},
   "source": [
    "<a id='potentiometer'></a>\n",
    "# Task 2: Tuning Potentiometer"
   ]
  },
  {
   "cell_type": "markdown",
   "metadata": {},
   "source": [
    "<img src=\"pulsometer-image/pot_als_pair.jpg\" style=\"height:250px\" />\n",
    "\n",
    "In order to get a good reading, we must first have a good signal. Looking at the relationship between $V_{signal}$, $R_{pot}$, and $R_{ALS}$, we find that:\n",
    "\n",
    "$$V_{signal} = 5 \\frac{R_{ALS}}{R_{pot} + R_{ALS}}$$\n",
    "\n",
    "Recall that $V_{out,2} = \\frac{R_{f,1}R_{f,2}C_1}{R_{f,1} + R_{s,2}}\\left(\\frac{dV_{signal}}{dt}\\right) + 2.5$. Since our circuit amplifies the instantaeous change in $V_{signal}$, we would like $\\frac{dV_{signal}}{dt}$ to be relatively large enough to amplify.\n",
    "\n",
    "<span style=\"color:red\">What does $V_{signal}$ equal as $R_{pot}$ tends to infinity? What does that mean for $\\frac{dV_{signal}}{dt}$ when $R_{ALS}$ changes by a little? <i>Hint: does $V_{signal}$ depend on $R_{ALS}$ as $R_{pot}\\to\\infty$? If not, does $V_{signal}$ change when $R_{ALS}$ changes?</i></span>"
   ]
  },
  {
   "cell_type": "code",
   "execution_count": null,
   "metadata": {},
   "outputs": [],
   "source": [
    "\"\"\"YOUR ANSWER HERE\"\"\""
   ]
  },
  {
   "cell_type": "markdown",
   "metadata": {},
   "source": [
    "<span style=\"color:red\">What does $V_{signal}$ equal as $R_{pot}$ tends to 0? What does that mean for $\\frac{dV_{signal}}{dt}$ when $R_{ALS}$ changes by a little? <i>Hint: does $V_{signal}$ depend on $R_{ALS}$ as $R_{pot}\\to0$? If not, does $V_{signal}$ change when $R_{ALS}$ changes?</i></span>"
   ]
  },
  {
   "cell_type": "code",
   "execution_count": null,
   "metadata": {},
   "outputs": [],
   "source": [
    "\"\"\"YOUR ANSWER HERE\"\"\""
   ]
  },
  {
   "cell_type": "markdown",
   "metadata": {},
   "source": [
    "Notice that when $R_{pot}$ is very large or very small compared to $R_{ALS}$, $V_{signal}$ will almost not change at all, which means that $\\frac{dV_{signal}}{dt} \\approx 0$. In order for our circuit to detect a noticable change in $V_{signal}$, we have to determine a sweet spot for $R_{pot}$, which is what you will do when you test your circuit."
   ]
  },
  {
   "cell_type": "markdown",
   "metadata": {},
   "source": [
    "<a id='report'></a>\n",
    "# Lab Report"
   ]
  },
  {
   "cell_type": "markdown",
   "metadata": {},
   "source": [
    "<a id='checkoff'></a>\n",
    "# Checkoff"
   ]
  },
  {
   "cell_type": "markdown",
   "metadata": {},
   "source": []
  }
 ],
 "metadata": {
  "kernelspec": {
   "display_name": "Python 3",
   "language": "python",
   "name": "python3"
  },
  "language_info": {
   "codemirror_mode": {
    "name": "ipython",
    "version": 3
   },
   "file_extension": ".py",
   "mimetype": "text/x-python",
   "name": "python",
   "nbconvert_exporter": "python",
   "pygments_lexer": "ipython3",
   "version": "3.8.10"
  }
 },
 "nbformat": 4,
 "nbformat_minor": 2
}
