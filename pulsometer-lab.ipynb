{
 "cells": [
  {
   "attachments": {},
   "cell_type": "markdown",
   "metadata": {},
   "source": [
    "# EECS 16A Pulsometer Project\n",
    "### EECS 16A: Designing Information Devices and Systems I, Fall 2023\n",
    "\n",
    "<!---\n",
    "      Anastasia Simonova (asimonova@berkeley.edu)\n",
    "      Alexander Di (alexanderdi@berkeley.edu)\n",
    "      Justin Lee (julee6@berkeley.edu)\n",
    "      Aditya Madaraju (aditya.madaraju@berkeley.edu)\n",
    "      Myla ()\n",
    "      Kitty ()\n",
    "---->"
   ]
  },
  {
   "attachments": {},
   "cell_type": "markdown",
   "metadata": {},
   "source": [
    "# Table of Contents\n",
    "\n",
    "* [Overview](#overview)\n",
    "* [Components](#components)\n",
    "* [Setup](#setup)\n",
    "    * [Transmiter-Receiver Pair](#pair)\n",
    "    * [Measuring Output](#output)\n",
    "    * [Tuning Potentiometer](#potentiometer)\n",
    "* [Lab Report](#report)\n",
    "* [Checkoff](#checkoff)\n"
   ]
  },
  {
   "attachments": {},
   "cell_type": "markdown",
   "metadata": {},
   "source": [
    "<a id='overview'></a>\n",
    "# Overview"
   ]
  },
  {
   "attachments": {},
   "cell_type": "markdown",
   "metadata": {},
   "source": [
    "<a id='components'></a>\n",
    "# Components"
   ]
  },
  {
   "attachments": {},
   "cell_type": "markdown",
   "metadata": {},
   "source": [
    "<a id='setup'></a>\n",
    "# Setup"
   ]
  },
  {
   "attachments": {},
   "cell_type": "markdown",
   "metadata": {},
   "source": [
    "<a id='pair'></a>\n",
    "## Transmitter-receiver pair\n",
    "\n",
    "In today's lab, we are going to introduce you with **signal processing** techniques. Let us start with terminology. First, a signal is a model that represents data we are working with. In this lab, we accumulate data about heartbeat fluctuations, using circuits, and read it, using an LED. The heartbeat data is called an input signal, and the LED light is called an output signal.\n",
    "\n",
    "A piece of circuitry that captures the input signal is called a transmitter-receiver pair. You are going to use your phone's flashlight that **transmits** bright light through your finger. As heartbeat occurs, transparency of your finger changes. The change in transparency will cause the light from the flashlight to fluctuate. To capture these fluctuations, you are going to use a combination of an ambient light sensor and a potentiometer as your **receiver**.\n",
    "\n",
    "The receiver is going to pass the input signal through a circuitry setup that is going to eliminate all the noises and leave the heartbeat signal only. Finally, you are going to see a heartbeat signal as fluctuations of light on an **indicator** LED."
   ]
  },
  {
   "attachments": {},
   "cell_type": "markdown",
   "metadata": {},
   "source": [
    "<a id='output'></a>\n",
    "## Measuring output\n",
    "First half of circuit:\n",
    "The capacitor $C_1$ filters out any DC current that may result from our PSU, leaving us with just sensor reading of the heart beat. The first op amp and resistor $R_3$ acts as an inverting op amp, producing an output voltage.\n",
    "$$\\frac{V_{divider} - 2.5}{R_{light}} = \\frac{2.5 - V_{out}}{R_3}$$\n",
    "$$R_3(V_{divider} - 2.5) = R_{light}(2.5 - V_{out})$$\n",
    "$$...$$\n",
    "more steps to show\n",
    "$$V_{out,1} = -\\frac{R_{3}}{R_{light \\space sensor}}V_{divider} = -I_{light \\space sensor}*R_{3}$$\n",
    "Effectively, the op amp amplifies the light sensor reading by $R_3$. When there is high light (no pulse), $I_{light \\space sensor}$ is high, meaning $V_{out,1}$ is low (more negative). When there is low light (a pulse is detected), $I_{light \\space sensor}$ is low, meaning $V_{out,1}$ is high (less negative).\n",
    "Second half of circuit:\n",
    "The amplified sensor reading is passed through another inverting amplifier, with gain $A_v = -\\frac{R_6}{R_5}$"
   ]
  },
  {
   "attachments": {},
   "cell_type": "markdown",
   "metadata": {},
   "source": [
    "<a id='potentiometer'></a>\n",
    "## Tuning potentiometer"
   ]
  },
  {
   "cell_type": "markdown",
   "metadata": {},
   "source": []
  },
  {
   "attachments": {},
   "cell_type": "markdown",
   "metadata": {},
   "source": [
    "<a id='report'></a>\n",
    "# Lab Report"
   ]
  },
  {
   "attachments": {},
   "cell_type": "markdown",
   "metadata": {},
   "source": [
    "<a id='checkoff'></a>\n",
    "# Checkoff"
   ]
  },
  {
   "cell_type": "markdown",
   "metadata": {},
   "source": []
  }
 ],
 "metadata": {
  "kernelspec": {
   "display_name": "research",
   "language": "python",
   "name": "python3"
  },
  "language_info": {
   "name": "python",
   "version": "3.11.0"
  },
  "orig_nbformat": 4
 },
 "nbformat": 4,
 "nbformat_minor": 2
}
