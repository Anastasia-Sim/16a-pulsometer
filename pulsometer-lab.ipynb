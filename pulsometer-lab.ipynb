{
 "cells": [
  {
   "cell_type": "markdown",
   "metadata": {},
   "source": [
    "# EECS 16A Pulsometer Project\n",
    "### EECS 16A: Designing Information Devices and Systems I, Fall 2023\n",
    "\n",
    "<!---\n",
    "      Anastasia Simonova (asimonova@berkeley.edu)\n",
    "      Alexander Di (alexanderdi@berkeley.edu)\n",
    "      Justin Lee (julee6@berkeley.edu)\n",
    "      Aditya Madaraju (aditya.madaraju@berkeley.edu)\n",
    "      Myla ()\n",
    "      Kitty ()\n",
    "---->"
   ]
  },
  {
   "cell_type": "markdown",
   "metadata": {},
   "source": [
    "# Table of Contents\n",
    "\n",
    "* [Overview](#overview)\n",
    "* [Components](#components)\n",
    "* [Setup](#setup)\n",
    "    * [Transmiter-Receiver Pair](#pair)\n",
    "    * [Measuring Output](#output)\n",
    "    * [Tuning Potentiometer](#potentiometer)\n",
    "* [Lab Report](#report)\n",
    "* [Checkoff](#checkoff)\n"
   ]
  },
  {
   "cell_type": "markdown",
   "metadata": {},
   "source": [
    "<a id='overview'></a>\n",
    "# Overview"
   ]
  },
  {
   "cell_type": "markdown",
   "metadata": {},
   "source": [
    "<a id='components'></a>\n",
    "# Components"
   ]
  },
  {
   "cell_type": "markdown",
   "metadata": {},
   "source": [
    "<a id='setup'></a>\n",
    "# Setup"
   ]
  },
  {
   "cell_type": "markdown",
   "metadata": {},
   "source": [
    "<a id='pair'></a>\n",
    "## Transmitter-receiver pair\n",
    "\n",
    "In today's lab, we are going to introduce you with **signal processing** techniques. Let us start with terminology. First, a signal is a model that represents data we are working with. In this lab, we accumulate data about heartbeat fluctuations, using circuits, and read it, using an LED. The heartbeat data is called an input signal, and the LED light is called an output signal.\n",
    "\n",
    "A piece of circuitry that captures the input signal is called a transmitter-receiver pair. You are going to use your phone's flashlight that **transmits** bright light through your finger. As heartbeat occurs, transparency of your finger changes. The change in transparency will cause the light from the flashlight to fluctuate. To capture these fluctuations, you are going to use a combination of an ambient light sensor and a potentiometer as your **receiver**.\n",
    "\n",
    "The receiver is going to pass the input signal through a circuitry setup that is going to eliminate all the noises and leave the heartbeat signal only. Finally, you are going to see a heartbeat signal as fluctuations of light on an **indicator** LED."
   ]
  },
  {
   "cell_type": "markdown",
   "metadata": {},
   "source": [
    "<a id='output'></a>\n",
    "## Measuring output\n",
    "Unfortunately, the flucuation in the light sensor's reading is almost undetectable if we tried to read the voltage between the potentiometer and light sensor. To amplify the sensor reading, we pass our signal through a series of filters and amplifiers to obtain something more like a heartbeat.\n",
    "\n",
    "Our desired output is an alternating signal between high and low voltage. $C_1$ acts as a bucket of charge that filters out signals that frequencies lower than that of a normal heartbeat, around 0.33 Hz or 20 bpm. This filtered signal is then passed into the inverting op amp. Using KCL, we can find the output voltage of the op amp,\n",
    "\n",
    "\\begin{eqnarray}\n",
    "\\frac{V_{signal} - 2.5}{R_{sensor}} &=& \\frac{2.5 - V_{out,1}}{R_3} \\\\\n",
    "R_3\\left(V_{signal} - 2.5\\right) &=& R_{sensor}\\left(2.5 - V_{out,1}\\right) \\\\\n",
    "R_3V_{signal} - 2.5\\left(R_{sensor} + R_3\\right) &=& -R_{sensor}V_{out,1} \\\\\n",
    "V_{out,1} &=& -\\frac{R_3}{R_{sensor}}V_{signal} + 2.5\\frac{\\left(R_{sensor} + R_3\\right)}{R_{sensor}} \\\\\n",
    "V_{out,1} &=& -\\frac{R_3}{R_{sensor}}\\left(V_{signal} - 2.5\\right) + 2.5\n",
    "\\end{eqnarray}\n",
    "\n",
    "When there is high light (no pulse), the internal resistance of the light sensor $R_{sensor}$ is small and $V_{signal}$ is large, meaning $V_{out,1}$ is low (more negative). When there is low light (a pulse is detected), $R_{sensor}$ is large and $V_{signal}$ is small, meaning $V_{out,1}$ is high (less negative). Effectively, $V_{out,1}$ is high when a pulse is detected and low otherwise.\n",
    "\n",
    "However, our newly amplified signal only has a fluctuation of about 0.2 - 0.5 V. To amplify this difference, we pass our signal through another inverting amplifier with gain $A_v = -\\frac{R_6}{R_5}$. The capacitor $C_3$ filters out signals that have a frequency higher than a normal heartbeat, around 8 Hz or 480 bpm."
   ]
  },
  {
   "cell_type": "markdown",
   "metadata": {},
   "source": [
    "<a id='potentiometer'></a>\n",
    "## Tuning potentiometer"
   ]
  },
  {
   "cell_type": "markdown",
   "metadata": {},
   "source": []
  },
  {
   "cell_type": "markdown",
   "metadata": {},
   "source": [
    "<a id='report'></a>\n",
    "# Lab Report"
   ]
  },
  {
   "cell_type": "markdown",
   "metadata": {},
   "source": [
    "<a id='checkoff'></a>\n",
    "# Checkoff"
   ]
  },
  {
   "cell_type": "markdown",
   "metadata": {},
   "source": []
  }
 ],
 "metadata": {
  "kernelspec": {
   "display_name": "Python 3",
   "language": "python",
   "name": "python3"
  },
  "language_info": {
   "codemirror_mode": {
    "name": "ipython",
    "version": 3
   },
   "file_extension": ".py",
   "mimetype": "text/x-python",
   "name": "python",
   "nbconvert_exporter": "python",
   "pygments_lexer": "ipython3",
   "version": "3.8.10"
  }
 },
 "nbformat": 4,
 "nbformat_minor": 2
}
